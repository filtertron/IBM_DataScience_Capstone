{
 "cells": [
  {
   "cell_type": "markdown",
   "metadata": {},
   "source": [
    "# IBM Data Science Final Capstone Project: \n",
    "\n",
    "# Safer Dining in Toronto"
   ]
  },
  {
   "cell_type": "markdown",
   "metadata": {},
   "source": [
    "## Introduction/Business Problem"
   ]
  },
  {
   "cell_type": "markdown",
   "metadata": {},
   "source": [
    "### The Basic Idea"
   ]
  },
  {
   "cell_type": "markdown",
   "metadata": {},
   "source": [
    "This project is rooted in experience.  Some years ago our family vacationed on Anna Maria Island in Florida, USA.  Once we were settled in the hotel we sought and found a local beach restaurant with a full parking lot, on the theory that if so many other people thought it was a good restaurant, we probably would too.  I ordered what were described as \"conch fritters.\"  This turned out to be a serious mistake.  Within 8 hours I was violently ill and was confined to the hotel room for the entire 8 days we had planned to stay.\n",
    "One learning from this experience was: a full parking lot does not necessarily imply a good, or even a safe, dining experience.  Another was: it might have been very helpful to have known the restaurant's history with local health authorities, as well as any reviews other patrons had shared, before digging in to those conch fritters."
   ]
  },
  {
   "cell_type": "markdown",
   "metadata": {},
   "source": [
    "### Objectives"
   ]
  },
  {
   "cell_type": "markdown",
   "metadata": {},
   "source": [
    "This project is a proof of concept demonstration that uses both a proprietary fee-for-data service, Foursquare, and a public dataset called Dinesafe made freely available by the City of Toronto.  The objectives of the project (aside from satisfying the requirements of the IBM Data Science Professional Certificate Program) are two:\n",
    "\n",
    "1) demonstrate the ease of blending proprietary and public data to address a real-life need\n",
    "\n",
    "2) create an extensible proof of concept data layer for a proposed web application. This application would deliver venue-specific data, sourced from Foursquare and the Toronto Public Health Food Premises Inspection and Disclosure database, to several audiences."
   ]
  },
  {
   "cell_type": "markdown",
   "metadata": {},
   "source": [
    "### Audiences"
   ]
  },
  {
   "cell_type": "markdown",
   "metadata": {},
   "source": [
    "Potential audiences envisioned for this proof of concept are four:\n",
    "\n",
    "1) Toronto visitors and residents who want to reduce the probability of food-borne illness when patronizing Toronto food and drink venues\n",
    "\n",
    "2) Hoteliers and other tourist industry recommenders who seek to guide inquirers to high-quality, safe venues\n",
    "\n",
    "3) Owners and operators of food and drink venues who want to know what potential customers will learn about their establishments, and what actual customers have said about them\n",
    "\n",
    "4) Toronto authorities whose jurisdictions include tourism, marketing, and public health."
   ]
  },
  {
   "cell_type": "markdown",
   "metadata": {},
   "source": [
    "### Monetization"
   ]
  },
  {
   "cell_type": "markdown",
   "metadata": {},
   "source": [
    "This project when and if deployed as a publicly-available web application will be funded through advertising.  It is anticipated that the bulk of advertsiing revenue will come from tourist destinations of all kinds in the Toronto area.  The same concept can be implemented anywhere the necessary data is available, not just in Toronto."
   ]
  },
  {
   "cell_type": "markdown",
   "metadata": {},
   "source": [
    "## Data"
   ]
  },
  {
   "cell_type": "markdown",
   "metadata": {},
   "source": [
    "As noted above, data sources for this proof of concept project are two:\n",
    "    \n",
    "1) Foursquare (https://foursquare.com/), in the company's words \"a location technology platform dedicated to improving how people move through the real world.\"  Data is accessed via the Foursquare published API, and returned in JSON format.  A developer-level account at minimum is required for genuinely usable data access.\n",
    "\n",
    "    a) Raw data sample (will be filtered to return only food and drink venues, supplied only to show format): \n",
    "    [  \n",
    "       {  \n",
    "          \"reasons\":{  \n",
    "             \"count\":0,\n",
    "             \"items\":[  \n",
    "                {  \n",
    "                   \"summary\":\"This spot is popular\",\n",
    "                   \"type\":\"general\",\n",
    "                   \"reasonName\":\"globalInteractionReason\"\n",
    "                }\n",
    "             ]\n",
    "          },\n",
    "          \"venue\":{  \n",
    "             \"id\":\"57524de4498e4f2143e9c292\",\n",
    "             \"name\":\"Rex Pak Food Packaging Ltd\",\n",
    "             \"location\":{  \n",
    "                \"address\":\"85 Thornmount Dr\",\n",
    "                \"lat\":43.805459,\n",
    "                \"lng\":-79.194344,\n",
    "                \"labeledLatLngs\":[  \n",
    "                   {  \n",
    "                      \"label\":\"display\",\n",
    "                      \"lat\":43.805459,\n",
    "                      \"lng\":-79.194344\n",
    "                   }\n",
    "                ],\n",
    "                \"distance\":136,\n",
    "                \"postalCode\":\"M1B 5V3\",\n",
    "                \"cc\":\"CA\",\n",
    "                \"city\":\"Scarborough\",\n",
    "                \"state\":\"ON\",\n",
    "                \"country\":\"Canada\",\n",
    "                \"formattedAddress\":[  \n",
    "                   \"85 Thornmount Dr\",\n",
    "                   \"Scarborough ON M1B 5V3\",\n",
    "                   \"Canada\"\n",
    "                ]\n",
    "             },\n",
    "             \"categories\":[  \n",
    "                {  \n",
    "                   \"id\":\"5453de49498eade8af355881\",\n",
    "                   \"name\":\"Business Service\",\n",
    "                   \"pluralName\":\"Business Services\",\n",
    "                   \"shortName\":\"Business Services\",\n",
    "                   \"icon\":{  \n",
    "                      \"prefix\":\"https://ss3.4sqi.net/img/categories_v2/building/default_\",\n",
    "                      \"suffix\":\".png\"\n",
    "                   },\n",
    "                   \"primary\":True\n",
    "                }\n",
    "             ],\n",
    "             \"photos\":{  \n",
    "                \"count\":0,\n",
    "                \"groups\":[  \n",
    "\n",
    "                ]\n",
    "             }\n",
    "          },\n",
    "          \"referralId\":\"e-0-57524de4498e4f2143e9c292-0\"\n",
    "       }\n",
    "    ]\n",
    "\n",
    "2) Dinesafe (https://open.toronto.ca/dataset/dinesafe/), that the City of Toronto describes as a \"snapshot of the information to the public concerning the Toronto Public Health Food Premises Inspection and Disclosure system.\"  Data is accessed via URL and returned in XML format.  \n",
    "\n",
    "    a) Raw data sample (supplied only to show format):\n",
    "    \n",
    "    <?xml version=\"1.0\" encoding=\"UTF-8\"?>\n",
    "    <DINESAFE_DATA>\n",
    "       <ESTABLISHMENT>\n",
    "          <ID>9008018</ID>\n",
    "          <NAME>'K' STORE</NAME>\n",
    "          <TYPE>Food Store (Convenience/Variety)</TYPE>\n",
    "          <ADDRESS>99 CARLTON ST</ADDRESS>\n",
    "          <LATITUDE>43.66205</LATITUDE>\n",
    "          <LONGITUDE>-79.37747</LONGITUDE>\n",
    "          <STATUS>Pass</STATUS>\n",
    "          <INSPECTION>\n",
    "             <STATUS>Pass</STATUS>\n",
    "             <DATE>2018-03-02</DATE>\n",
    "             <INFRACTION>\n",
    "                <SEVERITY>NA - Not Applicable</SEVERITY>\n",
    "                <ACTION>Notice to Comply</ACTION>\n",
    "                <CONVICTION_DATE />\n",
    "                <COURT_OUTCOME />\n",
    "                <AMOUNT_FINED />\n",
    "             </INFRACTION>\n",
    "          </INSPECTION>\n",
    "          <INSPECTION>\n",
    "             <STATUS>Pass</STATUS>\n",
    "             <DATE>2019-03-29</DATE>\n",
    "          </INSPECTION>\n",
    "       </ESTABLISHMENT>\n",
    "    </DINESAFE_DATA>"
   ]
  }
 ],
 "metadata": {
  "kernelspec": {
   "display_name": "Python 3",
   "language": "python",
   "name": "python3"
  },
  "language_info": {
   "codemirror_mode": {
    "name": "ipython",
    "version": 3
   },
   "file_extension": ".py",
   "mimetype": "text/x-python",
   "name": "python",
   "nbconvert_exporter": "python",
   "pygments_lexer": "ipython3",
   "version": "3.7.4"
  }
 },
 "nbformat": 4,
 "nbformat_minor": 4
}
